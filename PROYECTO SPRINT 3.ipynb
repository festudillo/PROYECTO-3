{
 "cells": [
  {
   "cell_type": "markdown",
   "metadata": {},
   "source": [
    "# ¿Qué vende un coche?\n",
    "\n",
    "Eres un analista en Crankshaft List. Cientos de anuncios gratuitos de vehículos se publican en tu sitio web cada día. Necesitas estudiar los datos recopilados durante los últimos años y determinar qué factores influyen en el precio de un vehículo."
   ]
  },
  {
   "cell_type": "markdown",
   "metadata": {},
   "source": [
    "# ¡Hola!  \n",
    "\n",
    "Mi nombre es Maria Efimova, soy code reviewer de Practicum y voy a revisar el proyecto que acabas de desarrollar.\n",
    "\n",
    "Cuando vea un error la primera vez, lo señalaré. Deberás encontrarlo y arreglarlo. La intención es que te prepares para un espacio real de trabajo. En un trabajo, el líder de tu equipo hará lo mismo. Si no puedes solucionar el error, te daré más información en la próxima ocasión. \n",
    "\n",
    "Encontrarás mis comentarios más abajo - **por favor, no los muevas, no los modifiques ni los borres**.\n",
    "\n",
    "¿Cómo lo voy a hacer? Voy a leer detenidamente cada una de las implementaciones que has llevado a cabo para cumplir con lo solicitado. Verás los comentarios de esta forma:\n",
    "\n",
    "<div class=\"alert alert-block alert-success\">\n",
    "<b>Comentario del revisor</b> <a class=\"tocSkip\"></a>\n",
    "    \n",
    "Si todo está perfecto.\n",
    "</div>\n",
    "\n",
    "\n",
    "<div class=\"alert alert-block alert-warning\">\n",
    "<b>Comentario del revisor</b> <a class=\"tocSkip\"></a>\n",
    "    \n",
    "Si tu código está bien pero se puede mejorar o hay algún detalle que le hace falta.\n",
    "</div>\n",
    "\n",
    "\n",
    "<div class=\"alert alert-block alert-danger\">\n",
    "    \n",
    "<b>Comentario del revisor</b> <a class=\"tocSkip\"></a>\n",
    "    \n",
    "    \n",
    "Si de pronto hace falta algo o existe algún problema con tu código o conclusiones.\n",
    "</div>\n",
    "\n",
    "\n",
    "Puedes responderme de esta forma: \n",
    "\n",
    "<div class=\"alert alert-block alert-info\">\n",
    "<b>Respuesta del estudiante</b> <a class=\"tocSkip\"></a>\n",
    "</div>\n",
    "\n",
    "¡Empecemos!"
   ]
  },
  {
   "cell_type": "markdown",
   "metadata": {},
   "source": [
    "## Inicialización"
   ]
  },
  {
   "cell_type": "code",
   "execution_count": 246,
   "metadata": {},
   "outputs": [],
   "source": [
    "# Cargar todas las librerías\n",
    "import pandas as pd\n",
    "import matplotlib.pyplot as plt\n"
   ]
  },
  {
   "cell_type": "markdown",
   "metadata": {},
   "source": [
    "### Cargar datos"
   ]
  },
  {
   "cell_type": "code",
   "execution_count": 247,
   "metadata": {},
   "outputs": [],
   "source": [
    "# Carga el archivo de datos en un DataFrame\n",
    "dataset = pd.read_csv('/datasets/vehicles_us.csv')\n"
   ]
  },
  {
   "cell_type": "markdown",
   "metadata": {},
   "source": [
    "### Explorar datos iniciales"
   ]
  },
  {
   "cell_type": "markdown",
   "metadata": {},
   "source": [
    "El dataset contiene los siguientes campos:\n",
    "- `price`\n",
    "- `model_year`\n",
    "- `model`\n",
    "- `condition`\n",
    "- `cylinders`\n",
    "- `fuel` — gasolina, diesel, etc.\n",
    "- `odometer` — el millaje del vehículo cuando el anuncio fue publicado\n",
    "- `transmission`\n",
    "- `paint_color`\n",
    "- `is_4wd` — si el vehículo tiene tracción a las 4 ruedas (tipo Booleano)\n",
    "- `date_posted` — la fecha en la que el anuncio fue publicado\n",
    "- `days_listed` — desde la publicación hasta que se elimina\n"
   ]
  },
  {
   "cell_type": "code",
   "execution_count": 348,
   "metadata": {},
   "outputs": [
    {
     "name": "stdout",
     "output_type": "stream",
     "text": [
      "<class 'pandas.core.frame.DataFrame'>\n",
      "RangeIndex: 43009 entries, 0 to 43008\n",
      "Data columns (total 17 columns):\n",
      " #   Column            Non-Null Count  Dtype         \n",
      "---  ------            --------------  -----         \n",
      " 0   level_0           43009 non-null  int64         \n",
      " 1   index             43009 non-null  int64         \n",
      " 2   price             43009 non-null  int64         \n",
      " 3   model_year        43009 non-null  datetime64[ns]\n",
      " 4   model             43009 non-null  object        \n",
      " 5   condition         43009 non-null  int64         \n",
      " 6   cylinders         43009 non-null  int64         \n",
      " 7   fuel              43009 non-null  object        \n",
      " 8   odometer          43009 non-null  float64       \n",
      " 9   transmission      43009 non-null  object        \n",
      " 10  type              43009 non-null  object        \n",
      " 11  paint_color       43009 non-null  object        \n",
      " 12  is_4wd            43009 non-null  int64         \n",
      " 13  date_posted       43009 non-null  datetime64[ns]\n",
      " 14  days_listed       43009 non-null  int64         \n",
      " 15  vehicle_age       43009 non-null  int64         \n",
      " 16  mileage_per_year  43008 non-null  float64       \n",
      "dtypes: datetime64[ns](2), float64(2), int64(8), object(5)\n",
      "memory usage: 5.6+ MB\n"
     ]
    }
   ],
   "source": [
    "# imprime la información general/resumida sobre el DataFrame\n",
    "dataset.info()"
   ]
  },
  {
   "cell_type": "code",
   "execution_count": 249,
   "metadata": {
    "scrolled": true
   },
   "outputs": [
    {
     "data": {
      "text/html": [
       "<div>\n",
       "<style scoped>\n",
       "    .dataframe tbody tr th:only-of-type {\n",
       "        vertical-align: middle;\n",
       "    }\n",
       "\n",
       "    .dataframe tbody tr th {\n",
       "        vertical-align: top;\n",
       "    }\n",
       "\n",
       "    .dataframe thead th {\n",
       "        text-align: right;\n",
       "    }\n",
       "</style>\n",
       "<table border=\"1\" class=\"dataframe\">\n",
       "  <thead>\n",
       "    <tr style=\"text-align: right;\">\n",
       "      <th></th>\n",
       "      <th>price</th>\n",
       "      <th>model_year</th>\n",
       "      <th>model</th>\n",
       "      <th>condition</th>\n",
       "      <th>cylinders</th>\n",
       "      <th>fuel</th>\n",
       "      <th>odometer</th>\n",
       "      <th>transmission</th>\n",
       "      <th>type</th>\n",
       "      <th>paint_color</th>\n",
       "      <th>is_4wd</th>\n",
       "      <th>date_posted</th>\n",
       "      <th>days_listed</th>\n",
       "    </tr>\n",
       "  </thead>\n",
       "  <tbody>\n",
       "    <tr>\n",
       "      <th>0</th>\n",
       "      <td>9400</td>\n",
       "      <td>2011.0</td>\n",
       "      <td>bmw x5</td>\n",
       "      <td>good</td>\n",
       "      <td>6.0</td>\n",
       "      <td>gas</td>\n",
       "      <td>145000.0</td>\n",
       "      <td>automatic</td>\n",
       "      <td>SUV</td>\n",
       "      <td>NaN</td>\n",
       "      <td>1.0</td>\n",
       "      <td>2018-06-23</td>\n",
       "      <td>19</td>\n",
       "    </tr>\n",
       "    <tr>\n",
       "      <th>1</th>\n",
       "      <td>25500</td>\n",
       "      <td>NaN</td>\n",
       "      <td>ford f-150</td>\n",
       "      <td>good</td>\n",
       "      <td>6.0</td>\n",
       "      <td>gas</td>\n",
       "      <td>88705.0</td>\n",
       "      <td>automatic</td>\n",
       "      <td>pickup</td>\n",
       "      <td>white</td>\n",
       "      <td>1.0</td>\n",
       "      <td>2018-10-19</td>\n",
       "      <td>50</td>\n",
       "    </tr>\n",
       "    <tr>\n",
       "      <th>2</th>\n",
       "      <td>5500</td>\n",
       "      <td>2013.0</td>\n",
       "      <td>hyundai sonata</td>\n",
       "      <td>like new</td>\n",
       "      <td>4.0</td>\n",
       "      <td>gas</td>\n",
       "      <td>110000.0</td>\n",
       "      <td>automatic</td>\n",
       "      <td>sedan</td>\n",
       "      <td>red</td>\n",
       "      <td>NaN</td>\n",
       "      <td>2019-02-07</td>\n",
       "      <td>79</td>\n",
       "    </tr>\n",
       "    <tr>\n",
       "      <th>3</th>\n",
       "      <td>1500</td>\n",
       "      <td>2003.0</td>\n",
       "      <td>ford f-150</td>\n",
       "      <td>fair</td>\n",
       "      <td>8.0</td>\n",
       "      <td>gas</td>\n",
       "      <td>NaN</td>\n",
       "      <td>automatic</td>\n",
       "      <td>pickup</td>\n",
       "      <td>NaN</td>\n",
       "      <td>NaN</td>\n",
       "      <td>2019-03-22</td>\n",
       "      <td>9</td>\n",
       "    </tr>\n",
       "    <tr>\n",
       "      <th>4</th>\n",
       "      <td>14900</td>\n",
       "      <td>2017.0</td>\n",
       "      <td>chrysler 200</td>\n",
       "      <td>excellent</td>\n",
       "      <td>4.0</td>\n",
       "      <td>gas</td>\n",
       "      <td>80903.0</td>\n",
       "      <td>automatic</td>\n",
       "      <td>sedan</td>\n",
       "      <td>black</td>\n",
       "      <td>NaN</td>\n",
       "      <td>2019-04-02</td>\n",
       "      <td>28</td>\n",
       "    </tr>\n",
       "    <tr>\n",
       "      <th>5</th>\n",
       "      <td>14990</td>\n",
       "      <td>2014.0</td>\n",
       "      <td>chrysler 300</td>\n",
       "      <td>excellent</td>\n",
       "      <td>6.0</td>\n",
       "      <td>gas</td>\n",
       "      <td>57954.0</td>\n",
       "      <td>automatic</td>\n",
       "      <td>sedan</td>\n",
       "      <td>black</td>\n",
       "      <td>1.0</td>\n",
       "      <td>2018-06-20</td>\n",
       "      <td>15</td>\n",
       "    </tr>\n",
       "    <tr>\n",
       "      <th>6</th>\n",
       "      <td>12990</td>\n",
       "      <td>2015.0</td>\n",
       "      <td>toyota camry</td>\n",
       "      <td>excellent</td>\n",
       "      <td>4.0</td>\n",
       "      <td>gas</td>\n",
       "      <td>79212.0</td>\n",
       "      <td>automatic</td>\n",
       "      <td>sedan</td>\n",
       "      <td>white</td>\n",
       "      <td>NaN</td>\n",
       "      <td>2018-12-27</td>\n",
       "      <td>73</td>\n",
       "    </tr>\n",
       "    <tr>\n",
       "      <th>7</th>\n",
       "      <td>15990</td>\n",
       "      <td>2013.0</td>\n",
       "      <td>honda pilot</td>\n",
       "      <td>excellent</td>\n",
       "      <td>6.0</td>\n",
       "      <td>gas</td>\n",
       "      <td>109473.0</td>\n",
       "      <td>automatic</td>\n",
       "      <td>SUV</td>\n",
       "      <td>black</td>\n",
       "      <td>1.0</td>\n",
       "      <td>2019-01-07</td>\n",
       "      <td>68</td>\n",
       "    </tr>\n",
       "    <tr>\n",
       "      <th>8</th>\n",
       "      <td>11500</td>\n",
       "      <td>2012.0</td>\n",
       "      <td>kia sorento</td>\n",
       "      <td>excellent</td>\n",
       "      <td>4.0</td>\n",
       "      <td>gas</td>\n",
       "      <td>104174.0</td>\n",
       "      <td>automatic</td>\n",
       "      <td>SUV</td>\n",
       "      <td>NaN</td>\n",
       "      <td>1.0</td>\n",
       "      <td>2018-07-16</td>\n",
       "      <td>19</td>\n",
       "    </tr>\n",
       "    <tr>\n",
       "      <th>9</th>\n",
       "      <td>9200</td>\n",
       "      <td>2008.0</td>\n",
       "      <td>honda pilot</td>\n",
       "      <td>excellent</td>\n",
       "      <td>NaN</td>\n",
       "      <td>gas</td>\n",
       "      <td>147191.0</td>\n",
       "      <td>automatic</td>\n",
       "      <td>SUV</td>\n",
       "      <td>blue</td>\n",
       "      <td>1.0</td>\n",
       "      <td>2019-02-15</td>\n",
       "      <td>17</td>\n",
       "    </tr>\n",
       "  </tbody>\n",
       "</table>\n",
       "</div>"
      ],
      "text/plain": [
       "   price  model_year           model  condition  cylinders fuel  odometer  \\\n",
       "0   9400      2011.0          bmw x5       good        6.0  gas  145000.0   \n",
       "1  25500         NaN      ford f-150       good        6.0  gas   88705.0   \n",
       "2   5500      2013.0  hyundai sonata   like new        4.0  gas  110000.0   \n",
       "3   1500      2003.0      ford f-150       fair        8.0  gas       NaN   \n",
       "4  14900      2017.0    chrysler 200  excellent        4.0  gas   80903.0   \n",
       "5  14990      2014.0    chrysler 300  excellent        6.0  gas   57954.0   \n",
       "6  12990      2015.0    toyota camry  excellent        4.0  gas   79212.0   \n",
       "7  15990      2013.0     honda pilot  excellent        6.0  gas  109473.0   \n",
       "8  11500      2012.0     kia sorento  excellent        4.0  gas  104174.0   \n",
       "9   9200      2008.0     honda pilot  excellent        NaN  gas  147191.0   \n",
       "\n",
       "  transmission    type paint_color  is_4wd date_posted  days_listed  \n",
       "0    automatic     SUV         NaN     1.0  2018-06-23           19  \n",
       "1    automatic  pickup       white     1.0  2018-10-19           50  \n",
       "2    automatic   sedan         red     NaN  2019-02-07           79  \n",
       "3    automatic  pickup         NaN     NaN  2019-03-22            9  \n",
       "4    automatic   sedan       black     NaN  2019-04-02           28  \n",
       "5    automatic   sedan       black     1.0  2018-06-20           15  \n",
       "6    automatic   sedan       white     NaN  2018-12-27           73  \n",
       "7    automatic     SUV       black     1.0  2019-01-07           68  \n",
       "8    automatic     SUV         NaN     1.0  2018-07-16           19  \n",
       "9    automatic     SUV        blue     1.0  2019-02-15           17  "
      ]
     },
     "execution_count": 249,
     "metadata": {},
     "output_type": "execute_result"
    }
   ],
   "source": [
    "# imprimir una muestra de datos\n",
    "dataset.head(10)\n"
   ]
  },
  {
   "cell_type": "markdown",
   "metadata": {},
   "source": [
    "<div class=\"alert alert-block alert-success\">\n",
    "Comentarios generales 1\n",
    "    \n",
    "<b>Comentario del revisor</b> <a class=\"tocSkip\"></a> Si no necesitas todas columnas entonces puedes eliminar unas"
   ]
  },
  {
   "cell_type": "code",
   "execution_count": 250,
   "metadata": {},
   "outputs": [
    {
     "name": "stdout",
     "output_type": "stream",
     "text": [
      "Total de modelos contenidos en la lista: 100\n",
      "ford f-150                           2796\n",
      "chevrolet silverado 1500             2171\n",
      "ram 1500                             1750\n",
      "chevrolet silverado                  1271\n",
      "jeep wrangler                        1119\n",
      "                                     ... \n",
      "ford f-250 super duty                 241\n",
      "kia sorento                           236\n",
      "acura tl                              236\n",
      "nissan murano                         235\n",
      "mercedes-benz benze sprinter 2500      41\n",
      "Name: model, Length: 100, dtype: int64\n"
     ]
    }
   ],
   "source": [
    "print('Total de modelos contenidos en la lista:', len(dataset['model'].unique()))\n",
    "print(dataset['model'].value_counts())"
   ]
  },
  {
   "cell_type": "markdown",
   "metadata": {},
   "source": [
    "- Se requiere investigación para determinar el patrón de los datos ausentes por modelo a lo largo del dataframe y la corrección de algunos de ellos donde sea posible.\n"
   ]
  },
  {
   "cell_type": "markdown",
   "metadata": {},
   "source": [
    "- Las columna cylinders contienen datos flotantes en lugar de enteros.\n",
    "- La columna date_posted contiene objetos en lugar de formato datetime.\n",
    "- La columna model_year contiene flotantes en lugar de datetime.\n"
   ]
  },
  {
   "cell_type": "markdown",
   "metadata": {},
   "source": [
    "- Existen 5 columnas con datos ausentes: model_year, cylinders, odometer, paint_color, is_4wd.\n",
    "- Aparentemente is_4wd contiene la mayor cantidad de datos ausentes."
   ]
  },
  {
   "cell_type": "markdown",
   "metadata": {},
   "source": [
    "### Conclusiones y siguientes pasos"
   ]
  },
  {
   "cell_type": "markdown",
   "metadata": {},
   "source": [
    "- A mi parecer los datos ausentes en model_year, odometer y cylinders son relevantes para determinar el precio de un vehículo. Considero necesario analizar el patrón de los datos ausentes en estas columnas y verificar si pueden ser eliminados o rellenados con datos medios, medianos o valores binarios.\n"
   ]
  },
  {
   "cell_type": "markdown",
   "metadata": {},
   "source": [
    "## Tratar los valores ausentes (si hay)"
   ]
  },
  {
   "cell_type": "code",
   "execution_count": 251,
   "metadata": {
    "scrolled": false
   },
   "outputs": [
    {
     "name": "stdout",
     "output_type": "stream",
     "text": [
      "Total de ausentes en model_year: 3619\n",
      "Porcentaje de datos ausentes en model_year: 0.07554377322256085\n"
     ]
    }
   ],
   "source": [
    "print('Total de ausentes en model_year:',dataset['model_year'].isna().sum())\n",
    "print('Porcentaje de datos ausentes en model_year:',dataset['model_year'].isna().sum()/dataset['model_year'].count())"
   ]
  },
  {
   "cell_type": "code",
   "execution_count": 252,
   "metadata": {},
   "outputs": [
    {
     "name": "stdout",
     "output_type": "stream",
     "text": [
      "Total de modelos con datos faltantes: 100\n",
      "\n",
      "Listado de modelos con datos faltantes: \n",
      " \n",
      " ['acura tl', 'bmw x5', 'buick enclave', 'cadillac escalade', 'chevrolet camaro', 'chevrolet camaro lt coupe 2d', 'chevrolet colorado', 'chevrolet corvette', 'chevrolet cruze', 'chevrolet equinox', 'chevrolet impala', 'chevrolet malibu', 'chevrolet silverado', 'chevrolet silverado 1500', 'chevrolet silverado 1500 crew', 'chevrolet silverado 2500hd', 'chevrolet silverado 3500hd', 'chevrolet suburban', 'chevrolet tahoe', 'chevrolet trailblazer', 'chevrolet traverse', 'chrysler 200', 'chrysler 300', 'chrysler town & country', 'dodge charger', 'dodge dakota', 'dodge grand caravan', 'ford econoline', 'ford edge', 'ford escape', 'ford expedition', 'ford explorer', 'ford f-150', 'ford f-250', 'ford f-250 sd', 'ford f-250 super duty', 'ford f-350 sd', 'ford f150', 'ford f150 supercrew cab xlt', 'ford f250', 'ford f250 super duty', 'ford f350', 'ford f350 super duty', 'ford focus', 'ford focus se', 'ford fusion', 'ford fusion se', 'ford mustang', 'ford mustang gt coupe 2d', 'ford ranger', 'ford taurus', 'gmc acadia', 'gmc sierra', 'gmc sierra 1500', 'gmc sierra 2500hd', 'gmc yukon', 'honda accord', 'honda civic', 'honda civic lx', 'honda cr-v', 'honda odyssey', 'honda pilot', 'hyundai elantra', 'hyundai santa fe', 'hyundai sonata', 'jeep cherokee', 'jeep grand cherokee', 'jeep grand cherokee laredo', 'jeep liberty', 'jeep wrangler', 'jeep wrangler unlimited', 'kia sorento', 'kia soul', 'mercedes-benz benze sprinter 2500', 'nissan altima', 'nissan frontier', 'nissan frontier crew cab sv', 'nissan maxima', 'nissan murano', 'nissan rogue', 'nissan sentra', 'nissan versa', 'ram 1500', 'ram 2500', 'ram 3500', 'subaru forester', 'subaru impreza', 'subaru outback', 'toyota 4runner', 'toyota camry', 'toyota camry le', 'toyota corolla', 'toyota highlander', 'toyota prius', 'toyota rav4', 'toyota sienna', 'toyota tacoma', 'toyota tundra', 'volkswagen jetta', 'volkswagen passat']\n"
     ]
    }
   ],
   "source": [
    "print('Total de modelos con datos faltantes:', len(dataset[dataset['model_year'].isna()]['model'].unique()))\n",
    "print()\n",
    "print('Listado de modelos con datos faltantes:','\\n','\\n',sorted(dataset[dataset['model_year'].isna()]['model'].unique()))"
   ]
  },
  {
   "cell_type": "markdown",
   "metadata": {},
   "source": [
    "<div class=\"alert alert-block alert-success\">\n",
    "Comentarios generales 1\n",
    "    \n",
    "<b>Comentario del revisor</b> <a class=\"tocSkip\"></a> Bien pero seria mejor si lo muestres en DataFrame"
   ]
  },
  {
   "cell_type": "code",
   "execution_count": 253,
   "metadata": {
    "scrolled": false
   },
   "outputs": [
    {
     "name": "stdout",
     "output_type": "stream",
     "text": [
      "TOP 20 de datos ausentes en model_year\n",
      "\n",
      "ford f-150                    191\n",
      "chevrolet silverado 1500      155\n",
      "ram 1500                      117\n",
      "chevrolet silverado            98\n",
      "honda accord                   80\n",
      "ram 2500                       80\n",
      "jeep wrangler                  70\n",
      "ford escape                    68\n",
      "jeep grand cherokee            68\n",
      "honda civic                    60\n",
      "toyota tacoma                  58\n",
      "chevrolet silverado 2500hd     54\n",
      "toyota camry                   54\n",
      "chevrolet tahoe                54\n",
      "gmc sierra 1500                54\n",
      "ford explorer                  53\n",
      "honda cr-v                     53\n",
      "toyota corolla                 51\n",
      "nissan altima                  51\n",
      "dodge grand caravan            47\n",
      "Name: model, dtype: int64\n",
      "TOTAL ======================= 1516\n"
     ]
    }
   ],
   "source": [
    "Missing_model_year_by_model = dataset[dataset['model_year'].isna()]['model'].value_counts()\n",
    "print('TOP 20 de datos ausentes en model_year')\n",
    "print()\n",
    "print(Missing_model_year_by_model.head(20))\n",
    "print('TOTAL =======================', Missing_model_year_by_model.head(20).sum())"
   ]
  },
  {
   "cell_type": "code",
   "execution_count": 254,
   "metadata": {},
   "outputs": [],
   "source": [
    "TOP_20_MY = Missing_model_year_by_model[Missing_model_year_by_model>47]"
   ]
  },
  {
   "cell_type": "code",
   "execution_count": 255,
   "metadata": {},
   "outputs": [
    {
     "data": {
      "text/plain": [
       "<AxesSubplot:title={'center':'Top models missing model year'}>"
      ]
     },
     "execution_count": 255,
     "metadata": {},
     "output_type": "execute_result"
    },
    {
     "data": {
      "image/png": "[encoded data removed]",
      "text/plain": [
       "<Figure size 432x288 with 1 Axes>"
      ]
     },
     "metadata": {
      "needs_background": "light"
     },
     "output_type": "display_data"
    }
   ],
   "source": [
    "TOP_20_MY.plot(title = 'Top models missing model year', kind='bar')"
   ]
  },
  {
   "cell_type": "markdown",
   "metadata": {},
   "source": [
    "<div class=\"alert alert-block alert-success\">\n",
    "Comentarios generales 1\n",
    "    \n",
    "<b>Comentario del revisor</b> <a class=\"tocSkip\"></a> Aqui correcto!"
   ]
  },
  {
   "cell_type": "code",
   "execution_count": 256,
   "metadata": {
    "scrolled": true
   },
   "outputs": [
    {
     "name": "stdout",
     "output_type": "stream",
     "text": [
      "Total de ausentes en odometer: 7892\n",
      "Porcentaje de datos ausentes en odometer: 0.18087227557124194\n"
     ]
    }
   ],
   "source": [
    "print('Total de ausentes en odometer:',dataset['odometer'].isna().sum())\n",
    "print('Porcentaje de datos ausentes en odometer:',dataset['odometer'].isna().sum()/dataset['odometer'].count())"
   ]
  },
  {
   "cell_type": "code",
   "execution_count": 257,
   "metadata": {},
   "outputs": [
    {
     "name": "stdout",
     "output_type": "stream",
     "text": [
      "Total de modelos con datos faltantes: 100\n",
      "\n",
      "Listado de modelos con datos faltantes: \n",
      " \n",
      " ['acura tl', 'bmw x5', 'buick enclave', 'cadillac escalade', 'chevrolet camaro', 'chevrolet camaro lt coupe 2d', 'chevrolet colorado', 'chevrolet corvette', 'chevrolet cruze', 'chevrolet equinox', 'chevrolet impala', 'chevrolet malibu', 'chevrolet silverado', 'chevrolet silverado 1500', 'chevrolet silverado 1500 crew', 'chevrolet silverado 2500hd', 'chevrolet silverado 3500hd', 'chevrolet suburban', 'chevrolet tahoe', 'chevrolet trailblazer', 'chevrolet traverse', 'chrysler 200', 'chrysler 300', 'chrysler town & country', 'dodge charger', 'dodge dakota', 'dodge grand caravan', 'ford econoline', 'ford edge', 'ford escape', 'ford expedition', 'ford explorer', 'ford f-150', 'ford f-250', 'ford f-250 sd', 'ford f-250 super duty', 'ford f-350 sd', 'ford f150', 'ford f150 supercrew cab xlt', 'ford f250', 'ford f250 super duty', 'ford f350', 'ford f350 super duty', 'ford focus', 'ford focus se', 'ford fusion', 'ford fusion se', 'ford mustang', 'ford mustang gt coupe 2d', 'ford ranger', 'ford taurus', 'gmc acadia', 'gmc sierra', 'gmc sierra 1500', 'gmc sierra 2500hd', 'gmc yukon', 'honda accord', 'honda civic', 'honda civic lx', 'honda cr-v', 'honda odyssey', 'honda pilot', 'hyundai elantra', 'hyundai santa fe', 'hyundai sonata', 'jeep cherokee', 'jeep grand cherokee', 'jeep grand cherokee laredo', 'jeep liberty', 'jeep wrangler', 'jeep wrangler unlimited', 'kia sorento', 'kia soul', 'mercedes-benz benze sprinter 2500', 'nissan altima', 'nissan frontier', 'nissan frontier crew cab sv', 'nissan maxima', 'nissan murano', 'nissan rogue', 'nissan sentra', 'nissan versa', 'ram 1500', 'ram 2500', 'ram 3500', 'subaru forester', 'subaru impreza', 'subaru outback', 'toyota 4runner', 'toyota camry', 'toyota camry le', 'toyota corolla', 'toyota highlander', 'toyota prius', 'toyota rav4', 'toyota sienna', 'toyota tacoma', 'toyota tundra', 'volkswagen jetta', 'volkswagen passat']\n"
     ]
    }
   ],
   "source": [
    "print('Total de modelos con datos faltantes:', len(dataset[dataset['odometer'].isna()]['model'].unique()))\n",
    "print()\n",
    "print('Listado de modelos con datos faltantes:','\\n','\\n',sorted(dataset[dataset['odometer'].isna()]['model'].unique()))"
   ]
  },
  {
   "cell_type": "code",
   "execution_count": 258,
   "metadata": {
    "scrolled": false
   },
   "outputs": [
    {
     "name": "stdout",
     "output_type": "stream",
     "text": [
      "TOP 20 de datos ausentes en odometer\n",
      "\n",
      "ford f-150                    419\n",
      "chevrolet silverado 1500      322\n",
      "ram 1500                      279\n",
      "chevrolet silverado           192\n",
      "ram 2500                      181\n",
      "jeep wrangler                 177\n",
      "ford escape                   156\n",
      "honda accord                  143\n",
      "chevrolet silverado 2500hd    139\n",
      "toyota camry                  138\n",
      "ford explorer                 138\n",
      "gmc sierra 1500               137\n",
      "nissan altima                 133\n",
      "toyota tacoma                 120\n",
      "honda civic                   119\n",
      "jeep grand cherokee           116\n",
      "chevrolet impala              115\n",
      "ford focus                    107\n",
      "toyota corolla                106\n",
      "chevrolet malibu              103\n",
      "Name: model, dtype: int64\n",
      "TOTAL ======================= 3340\n"
     ]
    }
   ],
   "source": [
    "Missing_odometer_by_model = dataset[dataset['odometer'].isna()]['model'].value_counts()\n",
    "print('TOP 20 de datos ausentes en odometer')\n",
    "print()\n",
    "print(Missing_odometer_by_model.head(20))\n",
    "print('TOTAL =======================',Missing_odometer_by_model.head(20).sum())"
   ]
  },
  {
   "cell_type": "code",
   "execution_count": 259,
   "metadata": {},
   "outputs": [],
   "source": [
    "TOP_20_OD = Missing_odometer_by_model[Missing_odometer_by_model>103]"
   ]
  },
  {
   "cell_type": "code",
   "execution_count": 260,
   "metadata": {
    "scrolled": true
   },
   "outputs": [
    {
     "data": {
      "text/plain": [
       "<AxesSubplot:title={'center':'Top models missing odometer'}>"
      ]
     },
     "execution_count": 260,
     "metadata": {},
     "output_type": "execute_result"
    },
    {
     "data": {
      "image/png": "[encoded data removed]",
      "text/plain": [
       "<Figure size 432x288 with 1 Axes>"
      ]
     },
     "metadata": {
      "needs_background": "light"
     },
     "output_type": "display_data"
    }
   ],
   "source": [
    "TOP_20_OD.plot(title = 'Top models missing odometer', kind='bar')"
   ]
  },
  {
   "cell_type": "code",
   "execution_count": 261,
   "metadata": {
    "scrolled": true
   },
   "outputs": [
    {
     "name": "stdout",
     "output_type": "stream",
     "text": [
      "Total de ausentes en cyliders: 5260\n",
      "Porcentaje de datos ausentes en cylinders: 0.11369285637090673\n"
     ]
    }
   ],
   "source": [
    "print('Total de ausentes en cyliders:',dataset['cylinders'].isna().sum())\n",
    "print('Porcentaje de datos ausentes en cylinders:',dataset['cylinders'].isna().sum()/dataset['cylinders'].count())"
   ]
  },
  {
   "cell_type": "code",
   "execution_count": 262,
   "metadata": {},
   "outputs": [
    {
     "name": "stdout",
     "output_type": "stream",
     "text": [
      "Total de modelos con datos faltantes: 100\n",
      "\n",
      "Listado de modelos con datos faltantes: \n",
      " \n",
      " ['acura tl', 'bmw x5', 'buick enclave', 'cadillac escalade', 'chevrolet camaro', 'chevrolet camaro lt coupe 2d', 'chevrolet colorado', 'chevrolet corvette', 'chevrolet cruze', 'chevrolet equinox', 'chevrolet impala', 'chevrolet malibu', 'chevrolet silverado', 'chevrolet silverado 1500', 'chevrolet silverado 1500 crew', 'chevrolet silverado 2500hd', 'chevrolet silverado 3500hd', 'chevrolet suburban', 'chevrolet tahoe', 'chevrolet trailblazer', 'chevrolet traverse', 'chrysler 200', 'chrysler 300', 'chrysler town & country', 'dodge charger', 'dodge dakota', 'dodge grand caravan', 'ford econoline', 'ford edge', 'ford escape', 'ford expedition', 'ford explorer', 'ford f-150', 'ford f-250', 'ford f-250 sd', 'ford f-250 super duty', 'ford f-350 sd', 'ford f150', 'ford f150 supercrew cab xlt', 'ford f250', 'ford f250 super duty', 'ford f350', 'ford f350 super duty', 'ford focus', 'ford focus se', 'ford fusion', 'ford fusion se', 'ford mustang', 'ford mustang gt coupe 2d', 'ford ranger', 'ford taurus', 'gmc acadia', 'gmc sierra', 'gmc sierra 1500', 'gmc sierra 2500hd', 'gmc yukon', 'honda accord', 'honda civic', 'honda civic lx', 'honda cr-v', 'honda odyssey', 'honda pilot', 'hyundai elantra', 'hyundai santa fe', 'hyundai sonata', 'jeep cherokee', 'jeep grand cherokee', 'jeep grand cherokee laredo', 'jeep liberty', 'jeep wrangler', 'jeep wrangler unlimited', 'kia sorento', 'kia soul', 'mercedes-benz benze sprinter 2500', 'nissan altima', 'nissan frontier', 'nissan frontier crew cab sv', 'nissan maxima', 'nissan murano', 'nissan rogue', 'nissan sentra', 'nissan versa', 'ram 1500', 'ram 2500', 'ram 3500', 'subaru forester', 'subaru impreza', 'subaru outback', 'toyota 4runner', 'toyota camry', 'toyota camry le', 'toyota corolla', 'toyota highlander', 'toyota prius', 'toyota rav4', 'toyota sienna', 'toyota tacoma', 'toyota tundra', 'volkswagen jetta', 'volkswagen passat']\n"
     ]
    }
   ],
   "source": [
    "print('Total de modelos con datos faltantes:', len(dataset[dataset['cylinders'].isna()]['model'].unique()))\n",
    "print()\n",
    "print('Listado de modelos con datos faltantes:','\\n','\\n',sorted(dataset[dataset['cylinders'].isna()]['model'].unique()))"
   ]
  },
  {
   "cell_type": "code",
   "execution_count": 263,
   "metadata": {
    "scrolled": true
   },
   "outputs": [
    {
     "name": "stdout",
     "output_type": "stream",
     "text": [
      "TOP 20 de datos ausentes en cylinders\n",
      "\n",
      "ford f-150                    316\n",
      "chevrolet silverado 1500      231\n",
      "ram 1500                      185\n",
      "chevrolet silverado           137\n",
      "ram 2500                      122\n",
      "jeep wrangler                 112\n",
      "toyota tacoma                  97\n",
      "honda civic                    95\n",
      "ford focus                     93\n",
      "toyota camry                   92\n",
      "ford explorer                  91\n",
      "jeep grand cherokee            88\n",
      "honda accord                   88\n",
      "chevrolet silverado 2500hd     86\n",
      "nissan altima                  84\n",
      "gmc sierra 1500                84\n",
      "chevrolet tahoe                77\n",
      "toyota corolla                 77\n",
      "ford escape                    75\n",
      "chevrolet malibu               70\n",
      "Name: model, dtype: int64\n",
      "TOTAL ======================= 2300\n"
     ]
    }
   ],
   "source": [
    "Missing_cylinders_by_model = dataset[dataset['cylinders'].isna()]['model'].value_counts()\n",
    "print('TOP 20 de datos ausentes en cylinders')\n",
    "print()\n",
    "print(Missing_cylinders_by_model.head(20))\n",
    "print('TOTAL =======================', Missing_cylinders_by_model.head(20).sum())"
   ]
  },
  {
   "cell_type": "code",
   "execution_count": 264,
   "metadata": {},
   "outputs": [],
   "source": [
    "TOP_20_C = Missing_cylinders_by_model[Missing_cylinders_by_model>70]"
   ]
  },
  {
   "cell_type": "code",
   "execution_count": 265,
   "metadata": {
    "scrolled": false
   },
   "outputs": [
    {
     "data": {
      "text/plain": [
       "<AxesSubplot:title={'center':'Top models missing cylinders'}>"
      ]
     },
     "execution_count": 265,
     "metadata": {},
     "output_type": "execute_result"
    },
    {
     "data": {
      "image/png": "[encoded data removed]",
      "text/plain": [
       "<Figure size 432x288 with 1 Axes>"
      ]
     },
     "metadata": {
      "needs_background": "light"
     },
     "output_type": "display_data"
    }
   ],
   "source": [
    "TOP_20_C.plot(title = 'Top models missing cylinders', kind='bar')"
   ]
  },
  {
   "cell_type": "markdown",
   "metadata": {},
   "source": [
    "**CONCLUSIONES SOBRE LOS VALORES AUSENTES**"
   ]
  },
  {
   "cell_type": "markdown",
   "metadata": {},
   "source": [
    "- La columna model_year tiene 7.5% de datos ausentes totales.\n",
    "- La columna odometer tiene 18% de datos ausentes totales.\n",
    "- La columna cylinders tiene 11% de datos ausentes totales.\n",
    "\n",
    "- Todos los 100 modelos de la lista tienen datos ausentes en las tres columnas mencionadas arriba.\n",
    "- Para las tres columnas se repite en el top 5 los siguientes modelos de vehículos:\n",
    "    - ford f-150                    \n",
    "    - chevrolet silverado 1500      \n",
    "    - ram 1500                     \n",
    "    - chevrolet silverado            \n",
    "    - ram 2500\n",
    "- No existe otro patrón evidente que relacione los datos ausentes entre las tres columnas evaluadas.\n",
    "\n",
    "Dado que model_year, odometer y cyliders son factores relevantes para determinar el precio de un vehículo, recomiendo eliminar el 7.5% de los datos ausentes en model_year, y el 11% en cylinders, y utilizar el valor de odómetro promedio para los datos ausentes en odometer. "
   ]
  },
  {
   "cell_type": "markdown",
   "metadata": {},
   "source": [
    "<div class=\"alert alert-block alert-success\">\n",
    "Comentarios generales 1\n",
    "    \n",
    "<b>Comentario del revisor</b> <a class=\"tocSkip\"></a> Genial que anadiste conclusiones completos! Todo esta bien!"
   ]
  },
  {
   "cell_type": "code",
   "execution_count": 266,
   "metadata": {
    "scrolled": true
   },
   "outputs": [],
   "source": [
    "dataset = dataset.dropna(subset=['model_year']).reset_index()"
   ]
  },
  {
   "cell_type": "code",
   "execution_count": 267,
   "metadata": {},
   "outputs": [
    {
     "data": {
      "text/plain": [
       "0"
      ]
     },
     "execution_count": 267,
     "metadata": {},
     "output_type": "execute_result"
    }
   ],
   "source": [
    "dataset['model_year'].isna().sum()"
   ]
  },
  {
   "cell_type": "code",
   "execution_count": 268,
   "metadata": {
    "scrolled": false
   },
   "outputs": [],
   "source": [
    "dataset = dataset.dropna(subset=['cylinders']).reset_index()"
   ]
  },
  {
   "cell_type": "code",
   "execution_count": 269,
   "metadata": {},
   "outputs": [
    {
     "data": {
      "text/plain": [
       "0"
      ]
     },
     "execution_count": 269,
     "metadata": {},
     "output_type": "execute_result"
    }
   ],
   "source": [
    "dataset['cylinders'].isna().sum()"
   ]
  },
  {
   "cell_type": "code",
   "execution_count": 270,
   "metadata": {},
   "outputs": [
    {
     "name": "stdout",
     "output_type": "stream",
     "text": [
      "<class 'pandas.core.frame.DataFrame'>\n",
      "RangeIndex: 43009 entries, 0 to 43008\n",
      "Data columns (total 15 columns):\n",
      " #   Column        Non-Null Count  Dtype  \n",
      "---  ------        --------------  -----  \n",
      " 0   level_0       43009 non-null  int64  \n",
      " 1   index         43009 non-null  int64  \n",
      " 2   price         43009 non-null  int64  \n",
      " 3   model_year    43009 non-null  float64\n",
      " 4   model         43009 non-null  object \n",
      " 5   condition     43009 non-null  object \n",
      " 6   cylinders     43009 non-null  float64\n",
      " 7   fuel          43009 non-null  object \n",
      " 8   odometer      36419 non-null  float64\n",
      " 9   transmission  43009 non-null  object \n",
      " 10  type          43009 non-null  object \n",
      " 11  paint_color   35293 non-null  object \n",
      " 12  is_4wd        21370 non-null  float64\n",
      " 13  date_posted   43009 non-null  object \n",
      " 14  days_listed   43009 non-null  int64  \n",
      "dtypes: float64(4), int64(4), object(7)\n",
      "memory usage: 4.9+ MB\n"
     ]
    }
   ],
   "source": [
    "dataset.info()"
   ]
  },
  {
   "cell_type": "markdown",
   "metadata": {},
   "source": [
    "## Corregir los tipos de datos"
   ]
  },
  {
   "cell_type": "code",
   "execution_count": 271,
   "metadata": {
    "scrolled": true
   },
   "outputs": [
    {
     "data": {
      "text/plain": [
       "113000.0"
      ]
     },
     "execution_count": 271,
     "metadata": {},
     "output_type": "execute_result"
    }
   ],
   "source": [
    "dataset['odometer'].median()\n",
    "#dataset['odometer'] = dataset.query('odometer == \"NaN\"')\n",
    "#dataset.where(dataset['odometer'] == 'NaN', '0')\n",
    "#dataset[(dataset['odometer'].isna() == True)]"
   ]
  },
  {
   "cell_type": "code",
   "execution_count": 272,
   "metadata": {},
   "outputs": [],
   "source": [
    "dataset['odometer'] = dataset['odometer'].fillna(value=113000.0)"
   ]
  },
  {
   "cell_type": "code",
   "execution_count": 273,
   "metadata": {},
   "outputs": [],
   "source": [
    "dataset['paint_color'] = dataset['paint_color'].fillna(value='Other')"
   ]
  },
  {
   "cell_type": "code",
   "execution_count": 274,
   "metadata": {},
   "outputs": [],
   "source": [
    "dataset['is_4wd'] = dataset['is_4wd'].fillna(value=0.0)\n",
    "dataset['is_4wd'] = dataset['is_4wd'].astype('int')"
   ]
  },
  {
   "cell_type": "code",
   "execution_count": 275,
   "metadata": {},
   "outputs": [],
   "source": [
    "dataset['cylinders'] = dataset['cylinders'].astype('int')"
   ]
  },
  {
   "cell_type": "code",
   "execution_count": 276,
   "metadata": {},
   "outputs": [
    {
     "name": "stdout",
     "output_type": "stream",
     "text": [
      "<class 'pandas.core.frame.DataFrame'>\n",
      "RangeIndex: 43009 entries, 0 to 43008\n",
      "Data columns (total 15 columns):\n",
      " #   Column        Non-Null Count  Dtype  \n",
      "---  ------        --------------  -----  \n",
      " 0   level_0       43009 non-null  int64  \n",
      " 1   index         43009 non-null  int64  \n",
      " 2   price         43009 non-null  int64  \n",
      " 3   model_year    43009 non-null  float64\n",
      " 4   model         43009 non-null  object \n",
      " 5   condition     43009 non-null  object \n",
      " 6   cylinders     43009 non-null  int64  \n",
      " 7   fuel          43009 non-null  object \n",
      " 8   odometer      43009 non-null  float64\n",
      " 9   transmission  43009 non-null  object \n",
      " 10  type          43009 non-null  object \n",
      " 11  paint_color   43009 non-null  object \n",
      " 12  is_4wd        43009 non-null  int64  \n",
      " 13  date_posted   43009 non-null  object \n",
      " 14  days_listed   43009 non-null  int64  \n",
      "dtypes: float64(2), int64(6), object(7)\n",
      "memory usage: 4.9+ MB\n"
     ]
    }
   ],
   "source": [
    "dataset.info()"
   ]
  },
  {
   "cell_type": "code",
   "execution_count": 277,
   "metadata": {},
   "outputs": [],
   "source": [
    "#odometer_by_model = dataset.pivot_table(index='model',values='odometer',aggfunc=['median'])\n",
    "#odometer_by_model.columns = ['median']\n",
    "#print(odometer_by_model)"
   ]
  },
  {
   "cell_type": "code",
   "execution_count": 278,
   "metadata": {},
   "outputs": [],
   "source": [
    "#def Odometer_median(model_1):\n",
    "#    median = dataset.groupby(model_1)['odometer'].median()\n",
    "#    return median\n",
    "\n",
    "#models = odometer_by_model\n",
    "#dataset['model']\n",
    "#odometers = dataset['odometer']\n",
    "#Odometer_median = dataset.groupby('model')['odometer'].median()\n",
    "#dataset['odometer'] = dataset['odometer'].fillna(value=odometer_by_model)\n",
    "#print(dataset['odometer'])\n",
    "\n",
    "#    for model_1 in dataset[model].unique():   \n",
    "#        for NaN_1 in dataset[odometer]:\n",
    "#            if NaN_1 == float('nan'):\n",
    "#                medians = odometer_by_model\n",
    "#for model_1 in dataset['model'].unique():\n",
    "#    dataset[model_1] = dataset.groupby(model_1)['odometer'].median() \n",
    "#    print\n",
    "#for NaN_1 in dataset['odometer']:\n",
    "#    if NaN_1 == \"N\":\n",
    "#        for model_1 in dataset['model'].unique():\n",
    "#            median_i = dataset.groupby(model_1)['odometer'].median()\n",
    "#            dataset.loc[i,'odometer'] = odometer_by_model.query('median == median_i')"
   ]
  },
  {
   "cell_type": "markdown",
   "metadata": {},
   "source": [
    "**COMENTARIOS SOBRE LA CORRECCIÓN DE DATOS**"
   ]
  },
  {
   "cell_type": "markdown",
   "metadata": {},
   "source": [
    "- Intenté por varios métodos hacer un promedio de odometer por modelo pero no me resultó y perdí demasiadas horas, por lo que finalmente decidí utilizar el valor de la mediana general para sustituir los valores NaN y evitar perder el 18% correspondiente de los datos.\n",
    "- Los NaNs en Paint_color los he sustituído por Other para evitar perder los datos.\n",
    "- Los NaNs en is_4wd los he sustituído por 0.0 para indicar que no son vehículos con tracción en las 4 ruedas.\n",
    "- He convertido la columna cylinders y is_awd a números enteros por mera convención ya que no es necesario que sean valores de coma flotante."
   ]
  },
  {
   "cell_type": "markdown",
   "metadata": {},
   "source": [
    "<div class=\"alert alert-block alert-success\">\n",
    "Comentarios generales 1\n",
    "    \n",
    "<b>Comentario del revisor</b> <a class=\"tocSkip\"></a> Aqui correcto!"
   ]
  },
  {
   "cell_type": "markdown",
   "metadata": {},
   "source": [
    "## Enriquecer datos"
   ]
  },
  {
   "cell_type": "code",
   "execution_count": 279,
   "metadata": {},
   "outputs": [
    {
     "name": "stdout",
     "output_type": "stream",
     "text": [
      "datetime64[ns]\n"
     ]
    }
   ],
   "source": [
    "# Agrega valores de fecha y hora para cuando se colocó el anuncio\n",
    "dataset['date_posted'] = pd.to_datetime(dataset['date_posted'], format = '%Y/%m/%d')\n",
    "print(dataset['date_posted'].dtype)"
   ]
  },
  {
   "cell_type": "code",
   "execution_count": 280,
   "metadata": {},
   "outputs": [
    {
     "name": "stdout",
     "output_type": "stream",
     "text": [
      "0     7\n",
      "1     6\n",
      "2    16\n",
      "3     2\n",
      "4     4\n",
      "Name: vehicle_age, dtype: int64\n"
     ]
    }
   ],
   "source": [
    "# Agrega los años del vehículo cuando el anuncio se colocó\n",
    "dataset['model_year'] = pd.to_datetime(dataset['model_year'], format = '%Y')\n",
    "dataset['vehicle_age'] = dataset['date_posted'].dt.year - dataset['model_year'].dt.year\n",
    "print(dataset['vehicle_age'].head())"
   ]
  },
  {
   "cell_type": "code",
   "execution_count": 281,
   "metadata": {},
   "outputs": [
    {
     "name": "stdout",
     "output_type": "stream",
     "text": [
      "0    20714.285714\n",
      "1    18333.333333\n",
      "2     7062.500000\n",
      "3    40451.500000\n",
      "4    14488.500000\n",
      "Name: mileage_per_year, dtype: float64\n"
     ]
    }
   ],
   "source": [
    "# Agrega el millaje promedio del vehículo por año\n",
    "dataset['mileage_per_year'] = dataset['odometer'] / dataset['vehicle_age']\n",
    "print(dataset['mileage_per_year'].head())"
   ]
  },
  {
   "cell_type": "code",
   "execution_count": 282,
   "metadata": {
    "scrolled": true
   },
   "outputs": [
    {
     "name": "stdout",
     "output_type": "stream",
     "text": [
      "0    2\n",
      "1    3\n",
      "2    1\n",
      "3    4\n",
      "4    4\n",
      "Name: condition, dtype: int64\n"
     ]
    }
   ],
   "source": [
    "# Podría ser útil reemplazar los valores de condición con algo que se pueda manipular más fácilmente\n",
    "dataset.loc[dataset['condition']=='new','condition']=5\n",
    "dataset.loc[dataset['condition']=='excellent','condition']=4\n",
    "dataset.loc[dataset['condition']=='like new','condition']=3\n",
    "dataset.loc[dataset['condition']=='good','condition']=2\n",
    "dataset.loc[dataset['condition']=='fair','condition']=1\n",
    "dataset.loc[dataset['condition']=='salvage','condition']=0\n",
    "dataset['condition'] = pd.to_numeric(dataset['condition'], errors='coerce')\n",
    "print(dataset['condition'].head())"
   ]
  },
  {
   "cell_type": "markdown",
   "metadata": {},
   "source": [
    "**COMENTARIOS SOBRE EL ENRIQUECIMIENTO DE DATOS**"
   ]
  },
  {
   "cell_type": "markdown",
   "metadata": {},
   "source": [
    "- He cambiado la columna date_posted y model_year a datetime para poder utilizarlos en operaciones con el formato correcto.\n",
    "- Se ha creado una nueva columna llamada vehicle_age para mostrar la distribución de edad de los vehículos.\n",
    "- Se ha creado una nueva columna llamada mileage_per_year para mostrar la distribución de millage anual promedio.\n",
    "- Se ha cambiado la columna condition por valores numéricos en la escala del 0 al 5 para observar la distribución de éstos."
   ]
  },
  {
   "cell_type": "markdown",
   "metadata": {},
   "source": [
    "<div class=\"alert alert-block alert-success\">\n",
    "Comentarios generales 1\n",
    "    \n",
    "<b>Comentario del revisor</b> <a class=\"tocSkip\"></a> Aqui tambien podias escribir una funcion para que no escribir cada case"
   ]
  },
  {
   "cell_type": "markdown",
   "metadata": {},
   "source": [
    "## Comprobar datos limpios"
   ]
  },
  {
   "cell_type": "code",
   "execution_count": 283,
   "metadata": {},
   "outputs": [
    {
     "name": "stdout",
     "output_type": "stream",
     "text": [
      "<class 'pandas.core.frame.DataFrame'>\n",
      "RangeIndex: 43009 entries, 0 to 43008\n",
      "Data columns (total 17 columns):\n",
      " #   Column            Non-Null Count  Dtype         \n",
      "---  ------            --------------  -----         \n",
      " 0   level_0           43009 non-null  int64         \n",
      " 1   index             43009 non-null  int64         \n",
      " 2   price             43009 non-null  int64         \n",
      " 3   model_year        43009 non-null  datetime64[ns]\n",
      " 4   model             43009 non-null  object        \n",
      " 5   condition         43009 non-null  int64         \n",
      " 6   cylinders         43009 non-null  int64         \n",
      " 7   fuel              43009 non-null  object        \n",
      " 8   odometer          43009 non-null  float64       \n",
      " 9   transmission      43009 non-null  object        \n",
      " 10  type              43009 non-null  object        \n",
      " 11  paint_color       43009 non-null  object        \n",
      " 12  is_4wd            43009 non-null  int64         \n",
      " 13  date_posted       43009 non-null  datetime64[ns]\n",
      " 14  days_listed       43009 non-null  int64         \n",
      " 15  vehicle_age       43009 non-null  int64         \n",
      " 16  mileage_per_year  43008 non-null  float64       \n",
      "dtypes: datetime64[ns](2), float64(2), int64(8), object(5)\n",
      "memory usage: 5.6+ MB\n"
     ]
    }
   ],
   "source": [
    "# imprime la información general/resumida sobre el DataFrame\n",
    "dataset.info()\n"
   ]
  },
  {
   "cell_type": "code",
   "execution_count": 284,
   "metadata": {},
   "outputs": [
    {
     "data": {
      "text/html": [
       "<div>\n",
       "<style scoped>\n",
       "    .dataframe tbody tr th:only-of-type {\n",
       "        vertical-align: middle;\n",
       "    }\n",
       "\n",
       "    .dataframe tbody tr th {\n",
       "        vertical-align: top;\n",
       "    }\n",
       "\n",
       "    .dataframe thead th {\n",
       "        text-align: right;\n",
       "    }\n",
       "</style>\n",
       "<table border=\"1\" class=\"dataframe\">\n",
       "  <thead>\n",
       "    <tr style=\"text-align: right;\">\n",
       "      <th></th>\n",
       "      <th>level_0</th>\n",
       "      <th>index</th>\n",
       "      <th>price</th>\n",
       "      <th>model_year</th>\n",
       "      <th>model</th>\n",
       "      <th>condition</th>\n",
       "      <th>cylinders</th>\n",
       "      <th>fuel</th>\n",
       "      <th>odometer</th>\n",
       "      <th>transmission</th>\n",
       "      <th>type</th>\n",
       "      <th>paint_color</th>\n",
       "      <th>is_4wd</th>\n",
       "      <th>date_posted</th>\n",
       "      <th>days_listed</th>\n",
       "      <th>vehicle_age</th>\n",
       "      <th>mileage_per_year</th>\n",
       "    </tr>\n",
       "  </thead>\n",
       "  <tbody>\n",
       "    <tr>\n",
       "      <th>0</th>\n",
       "      <td>0</td>\n",
       "      <td>0</td>\n",
       "      <td>9400</td>\n",
       "      <td>2011-01-01</td>\n",
       "      <td>bmw x5</td>\n",
       "      <td>2</td>\n",
       "      <td>6</td>\n",
       "      <td>gas</td>\n",
       "      <td>145000.0</td>\n",
       "      <td>automatic</td>\n",
       "      <td>SUV</td>\n",
       "      <td>Other</td>\n",
       "      <td>1</td>\n",
       "      <td>2018-06-23</td>\n",
       "      <td>19</td>\n",
       "      <td>7</td>\n",
       "      <td>20714.285714</td>\n",
       "    </tr>\n",
       "    <tr>\n",
       "      <th>1</th>\n",
       "      <td>1</td>\n",
       "      <td>2</td>\n",
       "      <td>5500</td>\n",
       "      <td>2013-01-01</td>\n",
       "      <td>hyundai sonata</td>\n",
       "      <td>3</td>\n",
       "      <td>4</td>\n",
       "      <td>gas</td>\n",
       "      <td>110000.0</td>\n",
       "      <td>automatic</td>\n",
       "      <td>sedan</td>\n",
       "      <td>red</td>\n",
       "      <td>0</td>\n",
       "      <td>2019-02-07</td>\n",
       "      <td>79</td>\n",
       "      <td>6</td>\n",
       "      <td>18333.333333</td>\n",
       "    </tr>\n",
       "    <tr>\n",
       "      <th>2</th>\n",
       "      <td>2</td>\n",
       "      <td>3</td>\n",
       "      <td>1500</td>\n",
       "      <td>2003-01-01</td>\n",
       "      <td>ford f-150</td>\n",
       "      <td>1</td>\n",
       "      <td>8</td>\n",
       "      <td>gas</td>\n",
       "      <td>113000.0</td>\n",
       "      <td>automatic</td>\n",
       "      <td>pickup</td>\n",
       "      <td>Other</td>\n",
       "      <td>0</td>\n",
       "      <td>2019-03-22</td>\n",
       "      <td>9</td>\n",
       "      <td>16</td>\n",
       "      <td>7062.500000</td>\n",
       "    </tr>\n",
       "    <tr>\n",
       "      <th>3</th>\n",
       "      <td>3</td>\n",
       "      <td>4</td>\n",
       "      <td>14900</td>\n",
       "      <td>2017-01-01</td>\n",
       "      <td>chrysler 200</td>\n",
       "      <td>4</td>\n",
       "      <td>4</td>\n",
       "      <td>gas</td>\n",
       "      <td>80903.0</td>\n",
       "      <td>automatic</td>\n",
       "      <td>sedan</td>\n",
       "      <td>black</td>\n",
       "      <td>0</td>\n",
       "      <td>2019-04-02</td>\n",
       "      <td>28</td>\n",
       "      <td>2</td>\n",
       "      <td>40451.500000</td>\n",
       "    </tr>\n",
       "    <tr>\n",
       "      <th>4</th>\n",
       "      <td>4</td>\n",
       "      <td>5</td>\n",
       "      <td>14990</td>\n",
       "      <td>2014-01-01</td>\n",
       "      <td>chrysler 300</td>\n",
       "      <td>4</td>\n",
       "      <td>6</td>\n",
       "      <td>gas</td>\n",
       "      <td>57954.0</td>\n",
       "      <td>automatic</td>\n",
       "      <td>sedan</td>\n",
       "      <td>black</td>\n",
       "      <td>1</td>\n",
       "      <td>2018-06-20</td>\n",
       "      <td>15</td>\n",
       "      <td>4</td>\n",
       "      <td>14488.500000</td>\n",
       "    </tr>\n",
       "  </tbody>\n",
       "</table>\n",
       "</div>"
      ],
      "text/plain": [
       "   level_0  index  price model_year           model  condition  cylinders  \\\n",
       "0        0      0   9400 2011-01-01          bmw x5          2          6   \n",
       "1        1      2   5500 2013-01-01  hyundai sonata          3          4   \n",
       "2        2      3   1500 2003-01-01      ford f-150          1          8   \n",
       "3        3      4  14900 2017-01-01    chrysler 200          4          4   \n",
       "4        4      5  14990 2014-01-01    chrysler 300          4          6   \n",
       "\n",
       "  fuel  odometer transmission    type paint_color  is_4wd date_posted  \\\n",
       "0  gas  145000.0    automatic     SUV       Other       1  2018-06-23   \n",
       "1  gas  110000.0    automatic   sedan         red       0  2019-02-07   \n",
       "2  gas  113000.0    automatic  pickup       Other       0  2019-03-22   \n",
       "3  gas   80903.0    automatic   sedan       black       0  2019-04-02   \n",
       "4  gas   57954.0    automatic   sedan       black       1  2018-06-20   \n",
       "\n",
       "   days_listed  vehicle_age  mileage_per_year  \n",
       "0           19            7      20714.285714  \n",
       "1           79            6      18333.333333  \n",
       "2            9           16       7062.500000  \n",
       "3           28            2      40451.500000  \n",
       "4           15            4      14488.500000  "
      ]
     },
     "execution_count": 284,
     "metadata": {},
     "output_type": "execute_result"
    }
   ],
   "source": [
    "# imprimir una muestra de datos\n",
    "dataset.head()\n"
   ]
  },
  {
   "cell_type": "markdown",
   "metadata": {},
   "source": [
    "<div class=\"alert alert-block alert-success\">\n",
    "Comentarios generales 1\n",
    "    \n",
    "<b>Comentario del revisor</b> <a class=\"tocSkip\"></a> Si no necesitas todas columnas entonces puedes usar las que importan para analisis"
   ]
  },
  {
   "cell_type": "markdown",
   "metadata": {},
   "source": [
    "## Estudiar parámetros principales\n",
    "\n",
    "Los parámetros son:\n",
    "- Precio\n",
    "- Los años del vehículo cuando el anuncio se colocó\n",
    "- Millaje\n",
    "- Número de cilindros\n",
    "- Estado"
   ]
  },
  {
   "cell_type": "code",
   "execution_count": 285,
   "metadata": {},
   "outputs": [
    {
     "data": {
      "text/plain": [
       "count     43009.000000\n",
       "mean      12168.670604\n",
       "std       10019.342590\n",
       "min           1.000000\n",
       "25%        5000.000000\n",
       "50%        9000.000000\n",
       "75%       16900.000000\n",
       "max      375000.000000\n",
       "Name: price, dtype: float64"
      ]
     },
     "execution_count": 285,
     "metadata": {},
     "output_type": "execute_result"
    }
   ],
   "source": [
    "dataset['price'].describe()"
   ]
  },
  {
   "cell_type": "code",
   "execution_count": 334,
   "metadata": {},
   "outputs": [
    {
     "data": {
      "text/plain": [
       "array([[<AxesSubplot:title={'center':'price'}>]], dtype=object)"
      ]
     },
     "execution_count": 334,
     "metadata": {},
     "output_type": "execute_result"
    },
    {
     "data": {
      "image/png": "[encoded data removed]",
      "text/plain": [
       "<Figure size 432x288 with 1 Axes>"
      ]
     },
     "metadata": {
      "needs_background": "light"
     },
     "output_type": "display_data"
    }
   ],
   "source": [
    "dataset.hist('price',bins=50)\n",
    "#TOP_price_models.hist('price',bins=50)\n",
    "#LOW_price_models.hist('price',bins=50)"
   ]
  },
  {
   "cell_type": "code",
   "execution_count": 287,
   "metadata": {},
   "outputs": [
    {
     "data": {
      "text/plain": [
       "count    43009.000000\n",
       "mean         8.545397\n",
       "std          6.277680\n",
       "min          0.000000\n",
       "25%          4.000000\n",
       "50%          7.000000\n",
       "75%         12.000000\n",
       "max        110.000000\n",
       "Name: vehicle_age, dtype: float64"
      ]
     },
     "execution_count": 287,
     "metadata": {},
     "output_type": "execute_result"
    }
   ],
   "source": [
    "dataset['vehicle_age'].describe()"
   ]
  },
  {
   "cell_type": "code",
   "execution_count": 288,
   "metadata": {},
   "outputs": [
    {
     "data": {
      "text/plain": [
       "array([[<AxesSubplot:title={'center':'vehicle_age'}>]], dtype=object)"
      ]
     },
     "execution_count": 288,
     "metadata": {},
     "output_type": "execute_result"
    },
    {
     "data": {
      "image/png": "[encoded data removed]",
      "text/plain": [
       "<Figure size 432x288 with 1 Axes>"
      ]
     },
     "metadata": {
      "needs_background": "light"
     },
     "output_type": "display_data"
    }
   ],
   "source": [
    "dataset.hist('vehicle_age',bins=50)\n",
    "#TOP_price_models.hist('vehicle_age',bins=50)\n",
    "#LOW_price_models.hist('vehicle_age',bins=50)\n",
    "\n"
   ]
  },
  {
   "cell_type": "code",
   "execution_count": 289,
   "metadata": {},
   "outputs": [
    {
     "data": {
      "text/plain": [
       "count     43009.000000\n",
       "mean     114967.597038\n",
       "std       59882.186015\n",
       "min           0.000000\n",
       "25%       78840.000000\n",
       "50%      113000.000000\n",
       "75%      146345.000000\n",
       "max      990000.000000\n",
       "Name: odometer, dtype: float64"
      ]
     },
     "execution_count": 289,
     "metadata": {},
     "output_type": "execute_result"
    }
   ],
   "source": [
    "dataset['odometer'].describe()"
   ]
  },
  {
   "cell_type": "code",
   "execution_count": 290,
   "metadata": {
    "scrolled": true
   },
   "outputs": [
    {
     "data": {
      "text/plain": [
       "array([[<AxesSubplot:title={'center':'odometer'}>]], dtype=object)"
      ]
     },
     "execution_count": 290,
     "metadata": {},
     "output_type": "execute_result"
    },
    {
     "data": {
      "image/png": "[encoded data removed]",
      "text/plain": [
       "<Figure size 432x288 with 1 Axes>"
      ]
     },
     "metadata": {
      "needs_background": "light"
     },
     "output_type": "display_data"
    }
   ],
   "source": [
    "dataset.hist('odometer',bins=50)\n",
    "#TOP_price_models.hist('odometer',bins=50)\n",
    "#LOW_price_models.hist('odometer',bins=50)"
   ]
  },
  {
   "cell_type": "code",
   "execution_count": 338,
   "metadata": {},
   "outputs": [
    {
     "data": {
      "text/plain": [
       "<AxesSubplot:title={'center':'Overall engine size distribution'}>"
      ]
     },
     "execution_count": 338,
     "metadata": {},
     "output_type": "execute_result"
    },
    {
     "data": {
      "image/png": "[encoded data removed]",
      "text/plain": [
       "<Figure size 432x288 with 1 Axes>"
      ]
     },
     "metadata": {
      "needs_background": "light"
     },
     "output_type": "display_data"
    }
   ],
   "source": [
    "dataset['cylinders'].value_counts().plot(kind='bar',title='Overall engine size distribution')"
   ]
  },
  {
   "cell_type": "code",
   "execution_count": 339,
   "metadata": {
    "scrolled": true
   },
   "outputs": [
    {
     "data": {
      "text/plain": [
       "<AxesSubplot:title={'center':'Overall condition distribution'}>"
      ]
     },
     "execution_count": 339,
     "metadata": {},
     "output_type": "execute_result"
    },
    {
     "data": {
      "image/png": "[encoded data removed]",
      "text/plain": [
       "<Figure size 432x288 with 1 Axes>"
      ]
     },
     "metadata": {
      "needs_background": "light"
     },
     "output_type": "display_data"
    }
   ],
   "source": [
    "dataset['condition'].value_counts().plot(kind='bar',title='Overall condition distribution')"
   ]
  },
  {
   "cell_type": "markdown",
   "metadata": {},
   "source": [
    "**CONCLUSIONES SOBRE LOS HISTOGRAMAS**"
   ]
  },
  {
   "cell_type": "markdown",
   "metadata": {},
   "source": [
    "- Para el caso de precio es visible que existe una gran cantidad de autos con un precio demasiado bajo incluso por debajo de los 100 dólares, que deben ser investigados y tratados. De igual manera, aunque en menos cantidad, se observan precios demasiado elevados que incluso llegan a un MAX de $375K\n",
    "- En el caso de edad del vehículo o vehicle_age podemos observar también una acumulación de datos en cero en la primer canasta que no siguen a la distribución de la mayoría de los datos en los que la mayoría se sitúan entre los 4 y 10 años. También se observa un pico alrededor de los doce años y datos de edad del vehículo demasiado altos, incluso por encima de los 30 años.\n",
    "- Para el caso de odometer o millage podemos observar una acumulación de valores cercanos a cero o en cero, y una acumulación de datos alrededor de los 120K millas que quizá se deba a la conversión de datos ausentes a medianas generales, igualmente tenemos datos por encima de las 400K millas que son sospechosos."
   ]
  },
  {
   "cell_type": "markdown",
   "metadata": {},
   "source": [
    "<div class=\"alert alert-block alert-success\">\n",
    "Comentarios generales 1\n",
    "    \n",
    "<b>Comentario del revisor</b> <a class=\"tocSkip\"></a> Aqui correcto!"
   ]
  },
  {
   "cell_type": "markdown",
   "metadata": {},
   "source": [
    "## Estudiar y tratar valores atípicos\n"
   ]
  },
  {
   "cell_type": "code",
   "execution_count": 293,
   "metadata": {},
   "outputs": [],
   "source": [
    "Q1_price = dataset['price'].quantile(0.25)\n",
    "Q1_vehicle_age = dataset['vehicle_age'].quantile(0.25)\n",
    "Q1_odometer = dataset['odometer'].quantile(0.25)\n",
    "\n",
    "Q3_price = dataset['price'].quantile(0.75)\n",
    "Q3_vehicle_age = dataset['vehicle_age'].quantile(0.75)\n",
    "Q3_odometer = dataset['odometer'].quantile(0.75)\n",
    "\n",
    "IQR_price = Q3_price - Q1_price\n",
    "IQR_vehicle_age = Q3_vehicle_age - Q1_vehicle_age\n",
    "IQR_odometer = Q3_odometer - Q1_odometer"
   ]
  },
  {
   "cell_type": "code",
   "execution_count": 294,
   "metadata": {},
   "outputs": [
    {
     "name": "stdout",
     "output_type": "stream",
     "text": [
      "Lower_limit_price: -12850.0\n",
      "Lower_limit_vehicle_age: -8.0\n",
      "Lower_limit_odometer: -22417.5\n"
     ]
    }
   ],
   "source": [
    "# Determina los límites inferiores para valores atípicos\n",
    "Lower_limit_price = Q1_price-1.5*IQR_price\n",
    "Lower_limit_vehicle_age = Q1_vehicle_age-1.5*IQR_vehicle_age\n",
    "Lower_limit_odometer = Q1_odometer-1.5*IQR_odometer\n",
    "\n",
    "print('Lower_limit_price:',Lower_limit_price)\n",
    "print('Lower_limit_vehicle_age:',Lower_limit_vehicle_age)\n",
    "print('Lower_limit_odometer:', Lower_limit_odometer)"
   ]
  },
  {
   "cell_type": "code",
   "execution_count": 295,
   "metadata": {},
   "outputs": [
    {
     "name": "stdout",
     "output_type": "stream",
     "text": [
      "Upper_limit_price: 22850.0\n",
      "Upper_limit_vehicle_age: 16.0\n",
      "Upper_limit_odometer: 180097.5\n"
     ]
    }
   ],
   "source": [
    "# Determinar los límites superiores para valores atípicos\n",
    "Upper_limit_price = Q1_price+1.5*IQR_price\n",
    "Upper_limit_vehicle_age = Q1_vehicle_age+1.5*IQR_vehicle_age\n",
    "Upper_limit_odometer = Q1_odometer+1.5*IQR_odometer\n",
    "\n",
    "print('Upper_limit_price:', Upper_limit_price)\n",
    "print('Upper_limit_vehicle_age:', Upper_limit_vehicle_age)\n",
    "print('Upper_limit_odometer:', Upper_limit_odometer)"
   ]
  },
  {
   "cell_type": "code",
   "execution_count": 308,
   "metadata": {
    "scrolled": true
   },
   "outputs": [
    {
     "name": "stdout",
     "output_type": "stream",
     "text": [
      "<class 'pandas.core.frame.DataFrame'>\n",
      "RangeIndex: 29305 entries, 0 to 29304\n",
      "Data columns (total 4 columns):\n",
      " #   Column         Non-Null Count  Dtype  \n",
      "---  ------         --------------  -----  \n",
      " 0   index          29305 non-null  int64  \n",
      " 1   price_1        29305 non-null  int64  \n",
      " 2   vehicle_age_1  29305 non-null  int64  \n",
      " 3   odometer_1     29305 non-null  float64\n",
      "dtypes: float64(1), int64(3)\n",
      "memory usage: 915.9 KB\n",
      "None\n"
     ]
    }
   ],
   "source": [
    "# Almacena los datos sin valores atípicos en un DataFrame separado\n",
    "df = pd.DataFrame() \n",
    "df['price_1'] = dataset['price']\n",
    "#df = df.query('price_1 <= 22850 and price_1 > -12850.0')\n",
    "df['vehicle_age_1'] = dataset['vehicle_age']\n",
    "#df = df.query('vehicle_age_1 <= 16.0 and vehicle_age_1 > -8.0')\n",
    "df['odometer_1'] = dataset['odometer']\n",
    "df = df.query('odometer_1 <= 180097.5 and odometer_1 > -22417.5 and price_1 <= 22850 and price_1 > -12850.0 and vehicle_age_1 <= 16.0 and vehicle_age_1 > -8.0 ')\n",
    "df=df.reset_index()\n",
    "print(df.info())"
   ]
  },
  {
   "cell_type": "markdown",
   "metadata": {},
   "source": [
    "**COMENTARIOS SOBRE LOS VALORES ATÍPICOS**"
   ]
  },
  {
   "cell_type": "markdown",
   "metadata": {},
   "source": [
    "- Se ha creado un nuevo dataframe que contiene las distribuciones de datos de las columnas price, vehicle_age y odometer sin valores atípicos altos, sin embargo aún se mantienen los valores atípicos cercanos a cero. La razón de esto es que el límite inferior más allá de 1.5IQR es negativo incluso más allá del cero en los tres casos.\n",
    "- Para cylinder y condition no existen valores atípicos por lo que no se han considerado en esta sección."
   ]
  },
  {
   "cell_type": "markdown",
   "metadata": {},
   "source": [
    "## Estudiar parámetros principales sin valores atípicos"
   ]
  },
  {
   "cell_type": "code",
   "execution_count": 297,
   "metadata": {},
   "outputs": [
    {
     "data": {
      "text/plain": [
       "array([[<AxesSubplot:title={'center':'price_1'}>]], dtype=object)"
      ]
     },
     "execution_count": 297,
     "metadata": {},
     "output_type": "execute_result"
    },
    {
     "data": {
      "image/png": "[encoded data removed]",
      "text/plain": [
       "<Figure size 432x288 with 1 Axes>"
      ]
     },
     "metadata": {
      "needs_background": "light"
     },
     "output_type": "display_data"
    }
   ],
   "source": [
    "df.hist('price_1',bins=10)"
   ]
  },
  {
   "cell_type": "code",
   "execution_count": 298,
   "metadata": {},
   "outputs": [
    {
     "data": {
      "text/plain": [
       "array([[<AxesSubplot:title={'center':'vehicle_age_1'}>]], dtype=object)"
      ]
     },
     "execution_count": 298,
     "metadata": {},
     "output_type": "execute_result"
    },
    {
     "data": {
      "image/png": "[encoded data removed]",
      "text/plain": [
       "<Figure size 432x288 with 1 Axes>"
      ]
     },
     "metadata": {
      "needs_background": "light"
     },
     "output_type": "display_data"
    }
   ],
   "source": [
    "df.hist('vehicle_age_1',bins=5)"
   ]
  },
  {
   "cell_type": "code",
   "execution_count": 299,
   "metadata": {},
   "outputs": [
    {
     "data": {
      "text/plain": [
       "array([[<AxesSubplot:title={'center':'odometer_1'}>]], dtype=object)"
      ]
     },
     "execution_count": 299,
     "metadata": {},
     "output_type": "execute_result"
    },
    {
     "data": {
      "image/png": "[encoded data removed]",
      "text/plain": [
       "<Figure size 432x288 with 1 Axes>"
      ]
     },
     "metadata": {
      "needs_background": "light"
     },
     "output_type": "display_data"
    }
   ],
   "source": [
    "df.hist('odometer_1',bins=10)"
   ]
  },
  {
   "cell_type": "markdown",
   "metadata": {},
   "source": [
    "**CONCLUSIONES SIN VALORES ATÍPICOS**"
   ]
  },
  {
   "cell_type": "markdown",
   "metadata": {},
   "source": [
    "- En la columna de precios se puede observar una nueva distribución de precios centrada entre los 5000 y 10000 dólares con valores máximos por debajo de los $22850\n",
    "- En la columna de edad de vehículo se observa ahora una distribución casi cuadrada, con la mayor parte de los vehículos con edad de 5 años aproximadamente, y un máximo de 16.\n",
    "- En la columna de odómetro o millage se puede observar una distribución centrada en las 120000 millas con un máximo de 175,000 y un pico entre los 100,000 y los 125,000 debido a la conversión de datos ausentes a medianas en la sección "
   ]
  },
  {
   "cell_type": "markdown",
   "metadata": {},
   "source": [
    "<div class=\"alert alert-block alert-success\">\n",
    "Comentarios generales 1\n",
    "    \n",
    "<b>Comentario del revisor</b> <a class=\"tocSkip\"></a> Los conclusiones son correctos!"
   ]
  },
  {
   "cell_type": "markdown",
   "metadata": {},
   "source": [
    "## Periodo de colocación de los anuncios"
   ]
  },
  {
   "cell_type": "code",
   "execution_count": 300,
   "metadata": {
    "scrolled": true
   },
   "outputs": [
    {
     "data": {
      "text/plain": [
       "count    43009.000000\n",
       "mean        39.573671\n",
       "std         28.180113\n",
       "min          0.000000\n",
       "25%         19.000000\n",
       "50%         33.000000\n",
       "75%         53.000000\n",
       "max        271.000000\n",
       "Name: days_listed, dtype: float64"
      ]
     },
     "execution_count": 300,
     "metadata": {},
     "output_type": "execute_result"
    }
   ],
   "source": [
    "dataset['days_listed'].describe()"
   ]
  },
  {
   "cell_type": "code",
   "execution_count": 301,
   "metadata": {
    "scrolled": true
   },
   "outputs": [
    {
     "data": {
      "text/plain": [
       "array([[<AxesSubplot:title={'center':'days_listed'}>]], dtype=object)"
      ]
     },
     "execution_count": 301,
     "metadata": {},
     "output_type": "execute_result"
    },
    {
     "data": {
      "image/png": "[encoded data removed]",
      "text/plain": [
       "<Figure size 432x288 with 1 Axes>"
      ]
     },
     "metadata": {
      "needs_background": "light"
     },
     "output_type": "display_data"
    }
   ],
   "source": [
    "dataset.hist('days_listed',bins=20)"
   ]
  },
  {
   "cell_type": "code",
   "execution_count": 302,
   "metadata": {
    "scrolled": true
   },
   "outputs": [
    {
     "name": "stdout",
     "output_type": "stream",
     "text": [
      "-32.0\n",
      "70.0\n"
     ]
    }
   ],
   "source": [
    "Q1_dlisted = dataset['days_listed'].quantile(0.25)\n",
    "Q3_dlisted = dataset['days_listed'].quantile(0.75)\n",
    "\n",
    "IQR_dlisted = Q3_dlisted - Q1_dlisted\n",
    "\n",
    "Lower_limit_dlisted = Q1_dlisted-1.5*IQR_dlisted\n",
    "Upper_limit_dlisted = Q1_dlisted+1.5*IQR_dlisted\n",
    "\n",
    "print(Lower_limit_dlisted)\n",
    "print(Upper_limit_dlisted)"
   ]
  },
  {
   "cell_type": "markdown",
   "metadata": {},
   "source": [
    "- Por regla, el 68% de los datos se ubican dentro de +/- 1 desviación estándar. En el caso de la columna days_listed considero un periodo de 39 +/- 28 días como un periodo de tiempo habitual para mantener un anuncio.\n",
    "- De acuerdo con el indicador superior (+1.5IQR) de datos atípicos, un número de días para days_listed superior a 70 días es demasiado grande respecto a la concentración de la mayoría de los datos.\n",
    "- En el límite inferior es un poco distinto, en realidad yo considero que un anuncio menor a 15 días es demasiado corto. Sin embargo el límite inferior -1.5IQR va más allá del mínimo de días en days_listed igual a cero."
   ]
  },
  {
   "cell_type": "markdown",
   "metadata": {},
   "source": [
    "<div class=\"alert alert-block alert-success\">\n",
    "Comentarios generales 1\n",
    "    \n",
    "<b>Comentario del revisor</b> <a class=\"tocSkip\"></a> Genial!"
   ]
  },
  {
   "cell_type": "markdown",
   "metadata": {},
   "source": [
    "## Precio promedio por cada tipo de vehículo"
   ]
  },
  {
   "cell_type": "code",
   "execution_count": 68,
   "metadata": {},
   "outputs": [
    {
     "data": {
      "text/plain": [
       "ford f-150                           2315\n",
       "chevrolet silverado 1500             1802\n",
       "ram 1500                             1463\n",
       "chevrolet silverado                  1043\n",
       "jeep wrangler                         944\n",
       "                                     ... \n",
       "jeep grand cherokee laredo            198\n",
       "kia sorento                           198\n",
       "ford f-250 super duty                 195\n",
       "nissan murano                         185\n",
       "mercedes-benz benze sprinter 2500      31\n",
       "Name: model, Length: 100, dtype: int64"
      ]
     },
     "execution_count": 68,
     "metadata": {},
     "output_type": "execute_result"
    }
   ],
   "source": [
    "dataset['model'].value_counts()"
   ]
  },
  {
   "cell_type": "code",
   "execution_count": 303,
   "metadata": {
    "scrolled": true
   },
   "outputs": [
    {
     "name": "stdout",
     "output_type": "stream",
     "text": [
      "                            Count    Price\n",
      "model                                     \n",
      "ford f-150                   2315  12497.0\n",
      "chevrolet silverado 1500     1802  13995.0\n",
      "ram 1500                     1463  14495.0\n",
      "chevrolet silverado          1043  11950.0\n",
      "jeep wrangler                 944  13984.0\n",
      "ram 2500                      897  20990.0\n",
      "toyota camry                  850   5894.0\n",
      "honda accord                  805   5495.0\n",
      "chevrolet silverado 2500hd    778  16995.0\n",
      "gmc sierra 1500               776  14974.0\n"
     ]
    }
   ],
   "source": [
    "Total_count_by_model = dataset.pivot_table(index='model',values=['days_listed'], aggfunc='count')\n",
    "Average_price_by_model = dataset.pivot_table(index='model',values=['price'], aggfunc='median')\n",
    "Days_to_price_table = Total_count_by_model.join(Average_price_by_model)\n",
    "Days_to_price_table.columns = ['Count','Price']\n",
    "Days_to_price_table = Days_to_price_table.sort_values(by='Count',ascending=False)\n",
    "print(Days_to_price_table.head(10))"
   ]
  },
  {
   "cell_type": "code",
   "execution_count": 341,
   "metadata": {
    "scrolled": true
   },
   "outputs": [
    {
     "data": {
      "text/plain": [
       "<AxesSubplot:xlabel='Count', ylabel='Price'>"
      ]
     },
     "execution_count": 341,
     "metadata": {},
     "output_type": "execute_result"
    },
    {
     "data": {
      "image/png": "[encoded data removed]",
      "text/plain": [
       "<Figure size 432x288 with 2 Axes>"
      ]
     },
     "metadata": {
      "needs_background": "light"
     },
     "output_type": "display_data"
    }
   ],
   "source": [
    "Days_to_price_table.plot(kind='hexbin',x='Count',y='Price',gridsize=10,sharex=False)"
   ]
  },
  {
   "cell_type": "markdown",
   "metadata": {},
   "source": [
    "- El gráfico de arriba nos indica que la concentración del número de anuncios es de entre 300 y 500 para los vehículos con un precio de 5,000 a 10,000. Los vehículos en este rango de precios son los más publicitados.\n",
    "- Los dos vehículos con más anuncios colocados son Ford F-150 y Chevrolet Silverado 1500 cuyos precios promedio rondan los 15,000. Su posición en la gráfica superior está fuera de la mancha que muestra los conteos y precios más comunes. O sea, son vehhículos con un rango de precio y conteo poco comunes."
   ]
  },
  {
   "cell_type": "markdown",
   "metadata": {},
   "source": [
    "## Factores de precio"
   ]
  },
  {
   "cell_type": "code",
   "execution_count": 322,
   "metadata": {},
   "outputs": [
    {
     "name": "stdout",
     "output_type": "stream",
     "text": [
      "<class 'pandas.core.frame.DataFrame'>\n",
      "RangeIndex: 29305 entries, 0 to 29304\n",
      "Data columns (total 7 columns):\n",
      " #   Column          Non-Null Count  Dtype  \n",
      "---  ------          --------------  -----  \n",
      " 0   index           29305 non-null  int64  \n",
      " 1   price_1         29305 non-null  int64  \n",
      " 2   vehicle_age_1   29305 non-null  int64  \n",
      " 3   odometer_1      29305 non-null  float64\n",
      " 4   condition_1     29305 non-null  int64  \n",
      " 5   transmission_1  29305 non-null  object \n",
      " 6   color_1         29305 non-null  object \n",
      "dtypes: float64(1), int64(4), object(2)\n",
      "memory usage: 1.6+ MB\n",
      "None\n"
     ]
    }
   ],
   "source": [
    "df['condition_1'] = dataset['condition']\n",
    "df['transmission_1'] = dataset['transmission']\n",
    "df['color_1'] = dataset['paint_color']\n",
    "print(df.info())"
   ]
  },
  {
   "cell_type": "code",
   "execution_count": 343,
   "metadata": {},
   "outputs": [
    {
     "name": "stdout",
     "output_type": "stream",
     "text": [
      "-0.39707458993701067\n"
     ]
    },
    {
     "data": {
      "text/plain": [
       "<AxesSubplot:title={'center':'Price to vehicle age correlation'}, xlabel='price_1', ylabel='vehicle_age_1'>"
      ]
     },
     "execution_count": 343,
     "metadata": {},
     "output_type": "execute_result"
    },
    {
     "data": {
      "image/png": "[encoded data removed]",
      "text/plain": [
       "<Figure size 432x288 with 1 Axes>"
      ]
     },
     "metadata": {
      "needs_background": "light"
     },
     "output_type": "display_data"
    }
   ],
   "source": [
    "print(df['price_1'].corr(df['vehicle_age_1']))\n",
    "df.plot(kind='scatter',x='price_1',y='vehicle_age_1',title='Price to vehicle age correlation')"
   ]
  },
  {
   "cell_type": "code",
   "execution_count": 344,
   "metadata": {},
   "outputs": [
    {
     "name": "stdout",
     "output_type": "stream",
     "text": [
      "-0.24338797910687004\n"
     ]
    },
    {
     "data": {
      "text/plain": [
       "<AxesSubplot:title={'center':'Price to odometer correlation'}, xlabel='price_1', ylabel='odometer_1'>"
      ]
     },
     "execution_count": 344,
     "metadata": {},
     "output_type": "execute_result"
    },
    {
     "data": {
      "image/png": "[encoded data removed]",
      "text/plain": [
       "<Figure size 432x288 with 1 Axes>"
      ]
     },
     "metadata": {
      "needs_background": "light"
     },
     "output_type": "display_data"
    }
   ],
   "source": [
    "print(df['price_1'].corr(df['odometer_1']))\n",
    "df.plot(kind='scatter',x='price_1',y='odometer_1',title='Price to odometer correlation')"
   ]
  },
  {
   "cell_type": "code",
   "execution_count": 345,
   "metadata": {},
   "outputs": [
    {
     "name": "stdout",
     "output_type": "stream",
     "text": [
      "0.0125097192289677\n"
     ]
    },
    {
     "data": {
      "text/plain": [
       "<AxesSubplot:title={'center':'Price to condition correlation'}, xlabel='price_1', ylabel='condition_1'>"
      ]
     },
     "execution_count": 345,
     "metadata": {},
     "output_type": "execute_result"
    },
    {
     "data": {
      "image/png": "[encoded data removed]",
      "text/plain": [
       "<Figure size 432x288 with 1 Axes>"
      ]
     },
     "metadata": {
      "needs_background": "light"
     },
     "output_type": "display_data"
    }
   ],
   "source": [
    "print(df['price_1'].corr(df['condition_1']))\n",
    "df.plot(kind='scatter',x='price_1',y='condition_1',title='Price to condition correlation')"
   ]
  },
  {
   "cell_type": "code",
   "execution_count": 347,
   "metadata": {},
   "outputs": [
    {
     "data": {
      "text/plain": [
       "<AxesSubplot:title={'center':'price_1'}, xlabel='transmission_1'>"
      ]
     },
     "execution_count": 347,
     "metadata": {},
     "output_type": "execute_result"
    },
    {
     "data": {
      "image/png": "[encoded data removed]",
      "text/plain": [
       "<Figure size 432x288 with 1 Axes>"
      ]
     },
     "metadata": {
      "needs_background": "light"
     },
     "output_type": "display_data"
    }
   ],
   "source": [
    "df.boxplot(column='price_1',by='transmission_1')"
   ]
  },
  {
   "cell_type": "code",
   "execution_count": 330,
   "metadata": {},
   "outputs": [
    {
     "data": {
      "text/plain": [
       "<AxesSubplot:title={'center':'price_1'}, xlabel='color_1'>"
      ]
     },
     "execution_count": 330,
     "metadata": {},
     "output_type": "execute_result"
    },
    {
     "data": {
      "image/png": "[encoded data removed]",
      "text/plain": [
       "<Figure size 432x288 with 1 Axes>"
      ]
     },
     "metadata": {
      "needs_background": "light"
     },
     "output_type": "display_data"
    }
   ],
   "source": [
    "df.boxplot(column='price_1',by='color_1')"
   ]
  },
  {
   "cell_type": "code",
   "execution_count": 331,
   "metadata": {
    "scrolled": true
   },
   "outputs": [
    {
     "data": {
      "text/plain": [
       "array([[<AxesSubplot:xlabel='index', ylabel='index'>,\n",
       "        <AxesSubplot:xlabel='price_1', ylabel='index'>,\n",
       "        <AxesSubplot:xlabel='vehicle_age_1', ylabel='index'>,\n",
       "        <AxesSubplot:xlabel='odometer_1', ylabel='index'>,\n",
       "        <AxesSubplot:xlabel='condition_1', ylabel='index'>],\n",
       "       [<AxesSubplot:xlabel='index', ylabel='price_1'>,\n",
       "        <AxesSubplot:xlabel='price_1', ylabel='price_1'>,\n",
       "        <AxesSubplot:xlabel='vehicle_age_1', ylabel='price_1'>,\n",
       "        <AxesSubplot:xlabel='odometer_1', ylabel='price_1'>,\n",
       "        <AxesSubplot:xlabel='condition_1', ylabel='price_1'>],\n",
       "       [<AxesSubplot:xlabel='index', ylabel='vehicle_age_1'>,\n",
       "        <AxesSubplot:xlabel='price_1', ylabel='vehicle_age_1'>,\n",
       "        <AxesSubplot:xlabel='vehicle_age_1', ylabel='vehicle_age_1'>,\n",
       "        <AxesSubplot:xlabel='odometer_1', ylabel='vehicle_age_1'>,\n",
       "        <AxesSubplot:xlabel='condition_1', ylabel='vehicle_age_1'>],\n",
       "       [<AxesSubplot:xlabel='index', ylabel='odometer_1'>,\n",
       "        <AxesSubplot:xlabel='price_1', ylabel='odometer_1'>,\n",
       "        <AxesSubplot:xlabel='vehicle_age_1', ylabel='odometer_1'>,\n",
       "        <AxesSubplot:xlabel='odometer_1', ylabel='odometer_1'>,\n",
       "        <AxesSubplot:xlabel='condition_1', ylabel='odometer_1'>],\n",
       "       [<AxesSubplot:xlabel='index', ylabel='condition_1'>,\n",
       "        <AxesSubplot:xlabel='price_1', ylabel='condition_1'>,\n",
       "        <AxesSubplot:xlabel='vehicle_age_1', ylabel='condition_1'>,\n",
       "        <AxesSubplot:xlabel='odometer_1', ylabel='condition_1'>,\n",
       "        <AxesSubplot:xlabel='condition_1', ylabel='condition_1'>]],\n",
       "      dtype=object)"
      ]
     },
     "execution_count": 331,
     "metadata": {},
     "output_type": "execute_result"
    },
    {
     "data": {
      "image/png": "[encoded data removed]",
      "text/plain": [
       "<Figure size 432x288 with 25 Axes>"
      ]
     },
     "metadata": {
      "needs_background": "light"
     },
     "output_type": "display_data"
    }
   ],
   "source": [
    "pd.plotting.scatter_matrix(df)"
   ]
  },
  {
   "cell_type": "markdown",
   "metadata": {},
   "source": [
    "**COMENTARIOS SOBRE LOS FACTORES DETERMINANTES DEL PRECIO**"
   ]
  },
  {
   "cell_type": "markdown",
   "metadata": {},
   "source": [
    "- En general, la variable precio no tiene una correlación lineal con ninguno de los parámetros analizados. Los datos demuestran que cierto modelo de vehículo puede tener cualquier rango de precio independientemente de su año modelo, tamaño de motor, transmisión, condición, color o cantidad de anuncios.\n",
    "- Al parecer el precio de los vehículos depende de otra variable que no se encuentra disponible en esta tabla. Pudiera ser alguna condición de oferta y demanda por temporada y región, de lo cual no tenemos acceso en esta lista."
   ]
  },
  {
   "cell_type": "markdown",
   "metadata": {},
   "source": [
    "## Conclusión general"
   ]
  },
  {
   "cell_type": "markdown",
   "metadata": {},
   "source": [
    "- Se encontraron 5 columnas con datos ausentes: model_year, cylinders, odometer, paint_color, is_4wd.\n",
    "- No se encontró algún patrón evidente que relacione los datos ausentes entre las columnas evaluadas.\n",
    "- Se eliminaron el 7.5% de los datos ausentes en model_year, y el 11% en cylinders, y se utilizó el valor de la mediana de odómetro general para los datos ausentes en odometer.\n",
    "    - Se intentó llevar a cabo un bucle o función para asignar la mediana de odómetro por modelo y así mejorar la distribución general del odómetro pero no logré realizarlo despúes de varias horas. Mi idea era promediar el odómetro por cada modelo y sustituirlo en cada valor NaN de la columna odómetro según correspondiera. \n",
    "- Se encontraron una gran cantidad de autos con un precio demasiado bajo incluso por debajo de los 100 dólares aunque éstos se mantuvieron.\n",
    "- Se eliminaron todos los datos por encima de Q1+1.5IQR para las columnas odometer, vehicle_age y price y se colocaron en un dataframe nuevo para su observación.\n",
    "- Se encontró  que no existe una correlación entre el número de anuncios y el precio del vehículo. Así mismo tampoco existe una relación lineal entre odómetro, edad del vehículo, condición, transmisión o color."
   ]
  },
  {
   "cell_type": "markdown",
   "metadata": {},
   "source": [
    "<div class=\"alert alert-block alert-success\">\n",
    "Comentarios generales 1\n",
    "    \n",
    "<b>Comentario del revisor</b> <a class=\"tocSkip\"></a> Muchas gracias por tu proyecto! Todo esta aceptado :)"
   ]
  }
 ],
 "metadata": {
  "ExecuteTimeLog": [
   {
    "duration": 828,
    "start_time": "2021-11-16T09:21:11.304Z"
   },
   {
    "duration": 893,
    "start_time": "2021-11-16T09:21:17.728Z"
   },
   {
    "duration": 1150,
    "start_time": "2021-11-16T09:21:29.568Z"
   },
   {
    "duration": 3,
    "start_time": "2021-11-16T09:24:14.495Z"
   },
   {
    "duration": 120,
    "start_time": "2021-11-16T09:24:46.630Z"
   },
   {
    "duration": 3,
    "start_time": "2021-11-16T09:28:27.882Z"
   },
   {
    "duration": 4,
    "start_time": "2021-11-16T09:29:54.281Z"
   },
   {
    "duration": 3,
    "start_time": "2021-11-16T09:30:45.936Z"
   },
   {
    "duration": 4,
    "start_time": "2021-11-16T09:31:06.300Z"
   },
   {
    "duration": 113,
    "start_time": "2021-11-16T09:31:37.208Z"
   },
   {
    "duration": 143,
    "start_time": "2021-11-16T09:31:48.656Z"
   },
   {
    "duration": 98,
    "start_time": "2021-11-16T09:31:55.678Z"
   },
   {
    "duration": 3,
    "start_time": "2021-11-16T09:32:08.535Z"
   },
   {
    "duration": 111,
    "start_time": "2021-11-16T09:32:10.120Z"
   },
   {
    "duration": 3,
    "start_time": "2021-11-16T09:32:15.732Z"
   },
   {
    "duration": 4,
    "start_time": "2021-11-16T09:32:29.423Z"
   },
   {
    "duration": 3,
    "start_time": "2021-11-16T10:03:03.074Z"
   },
   {
    "duration": 3,
    "start_time": "2021-11-16T10:10:01.288Z"
   },
   {
    "duration": 3,
    "start_time": "2021-11-16T10:10:46.923Z"
   },
   {
    "duration": 121,
    "start_time": "2021-11-16T10:37:46.494Z"
   },
   {
    "duration": 125,
    "start_time": "2021-11-16T10:38:20.632Z"
   },
   {
    "duration": 112,
    "start_time": "2021-11-16T10:46:53.001Z"
   },
   {
    "duration": 110,
    "start_time": "2021-11-16T10:48:25.775Z"
   },
   {
    "duration": 3,
    "start_time": "2021-11-16T10:50:18.720Z"
   },
   {
    "duration": 4,
    "start_time": "2021-11-16T10:50:37.649Z"
   },
   {
    "duration": 2,
    "start_time": "2021-11-16T10:50:51.884Z"
   },
   {
    "duration": 3,
    "start_time": "2021-11-16T10:51:56.237Z"
   },
   {
    "duration": 101,
    "start_time": "2021-11-16T10:53:13.791Z"
   },
   {
    "duration": 3,
    "start_time": "2021-11-16T10:55:59.186Z"
   },
   {
    "duration": 3,
    "start_time": "2021-11-16T10:56:10.751Z"
   },
   {
    "duration": 3,
    "start_time": "2021-11-16T10:56:49.038Z"
   },
   {
    "duration": 3,
    "start_time": "2021-11-16T10:56:49.174Z"
   },
   {
    "duration": 4,
    "start_time": "2021-11-16T10:56:49.414Z"
   },
   {
    "duration": 3,
    "start_time": "2021-11-16T10:56:49.680Z"
   },
   {
    "duration": 3,
    "start_time": "2021-11-16T10:56:50.370Z"
   },
   {
    "duration": 114,
    "start_time": "2021-11-16T10:59:34.518Z"
   },
   {
    "duration": 3,
    "start_time": "2021-11-16T11:01:41.201Z"
   },
   {
    "duration": 116,
    "start_time": "2021-11-16T11:01:48.754Z"
   },
   {
    "duration": 3,
    "start_time": "2021-11-16T11:02:16.685Z"
   },
   {
    "duration": 3,
    "start_time": "2021-11-16T11:02:19.479Z"
   },
   {
    "duration": 3,
    "start_time": "2021-11-16T11:02:47.067Z"
   },
   {
    "duration": 3,
    "start_time": "2021-11-16T11:02:49.353Z"
   },
   {
    "duration": 3,
    "start_time": "2021-11-16T11:03:07.835Z"
   },
   {
    "duration": 3,
    "start_time": "2021-11-16T11:03:07.953Z"
   },
   {
    "duration": 112,
    "start_time": "2021-11-16T11:07:52.072Z"
   },
   {
    "duration": 187,
    "start_time": "2021-11-16T11:09:23.468Z"
   },
   {
    "duration": 4,
    "start_time": "2021-11-16T11:10:01.455Z"
   },
   {
    "duration": 3,
    "start_time": "2021-11-16T11:10:05.069Z"
   },
   {
    "duration": 4,
    "start_time": "2021-11-16T11:10:13.376Z"
   },
   {
    "duration": 3,
    "start_time": "2021-11-16T11:10:14.434Z"
   },
   {
    "duration": 3,
    "start_time": "2021-11-16T11:10:22.853Z"
   },
   {
    "duration": 4,
    "start_time": "2021-11-16T11:27:29.279Z"
   },
   {
    "duration": 4,
    "start_time": "2021-11-16T11:29:08.919Z"
   },
   {
    "duration": 118,
    "start_time": "2021-11-16T11:29:46.703Z"
   },
   {
    "duration": 437,
    "start_time": "2021-11-16T11:36:02.181Z"
   },
   {
    "duration": 157,
    "start_time": "2021-11-16T11:36:14.388Z"
   },
   {
    "duration": 207,
    "start_time": "2021-11-16T11:47:15.898Z"
   },
   {
    "duration": 3,
    "start_time": "2021-11-16T11:53:52.092Z"
   },
   {
    "duration": 3,
    "start_time": "2021-11-16T11:53:52.236Z"
   },
   {
    "duration": 3,
    "start_time": "2021-11-16T11:59:12.005Z"
   },
   {
    "duration": 112,
    "start_time": "2021-11-16T12:00:33.446Z"
   },
   {
    "duration": 3,
    "start_time": "2021-11-16T12:02:14.453Z"
   },
   {
    "duration": 3,
    "start_time": "2021-11-16T12:02:39.512Z"
   },
   {
    "duration": 106,
    "start_time": "2021-11-16T12:03:03.460Z"
   }
  ],
  "kernelspec": {
   "display_name": "Python 3 (ipykernel)",
   "language": "python",
   "name": "python3"
  },
  "language_info": {
   "codemirror_mode": {
    "name": "ipython",
    "version": 3
   },
   "file_extension": ".py",
   "mimetype": "text/x-python",
   "name": "python",
   "nbconvert_exporter": "python",
   "pygments_lexer": "ipython3",
   "version": "3.9.5"
  },
  "toc": {
   "base_numbering": 1,
   "nav_menu": {},
   "number_sections": true,
   "sideBar": true,
   "skip_h1_title": false,
   "title_cell": "Table of Contents",
   "title_sidebar": "Contents",
   "toc_cell": false,
   "toc_position": {
    "height": "calc(100% - 180px)",
    "left": "10px",
    "top": "150px",
    "width": "322.438px"
   },
   "toc_section_display": true,
   "toc_window_display": true
  }
 },
 "nbformat": 4,
 "nbformat_minor": 2
}
